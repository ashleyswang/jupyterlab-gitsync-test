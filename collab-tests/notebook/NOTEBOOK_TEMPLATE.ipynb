{
 "cells": [
  {
   "cell_type": "markdown",
   "metadata": {},
   "source": [
    "# Notebook Collaboration Test"
   ]
  },
  {
   "cell_type": "markdown",
   "metadata": {},
   "source": [
    "### Part I: Collaboration Between Cells"
   ]
  },
  {
   "cell_type": "markdown",
   "metadata": {
    "jupyter": {
     "source_hidden": true
    }
   },
   "source": [
    "#### Purpose \n",
    "In this section we test how edits show up when two users are working on different cells of the same notebook. This sections also checks that other's outputs are shown on your editor after a sync. Edits from one user should not overlap into the other user's.\n",
    "\n",
    "#### Expected Behavior \n",
    "There should be no conflict error messages while working on this section. If there is, click on the \"View Diff\" option in the pop-up and note the conflict in the bug-bash spreadsheet. (Providing a screenshot is preferable)."
   ]
  },
  {
   "cell_type": "markdown",
   "metadata": {},
   "source": [
    "#### Instructions\n",
    "Below are two cells with variables that need to be changed. Please fill out all variables at the top of the cell and replace the words in the input variables. For the input variables, you should give a word matching the description of the variable name (ie. `A_animal` should be replaced with a singular animal, `B_verbIng` should be replaced with a verb ending in \"ing\"). Once you have filled out all the fields, run the cell to see the output, and change `FINISHED_X = True`. Once you see that your partner's `FINISHED_X` is set to true, you should see your partner's output. If you do not see their output, please note it in the bug bash spreadsheet. "
   ]
  },
  {
   "cell_type": "code",
   "execution_count": null,
   "metadata": {},
   "outputs": [],
   "source": [
    "# Tester A\n",
    "NAME_A = \"name\"\n",
    "LDAP_A = \"ldap\"\n",
    "\n",
    "# Input Variables\n",
    "A_animal = \"\"\n",
    "A_adj1   = \"\"\n",
    "A_color  = \"\"\n",
    "A_adj2   = \"\"\n",
    "A_food   = \"\"\n",
    "A_tvShow = \"\"\n",
    "\n",
    "# Output\n",
    "OUTPUT_A = \"\"\"\\\n",
    "Jim:\tQuestion. What kind of {} is best?\n",
    "Dwight:\tThat's a {} question.\n",
    "Jim:\tFalse. {} {}.\n",
    "Dwight:\tThat's {}. There are basically two schools of \n",
    "\tthought--\n",
    "Jim:\tFact. {}s eat {}. {}s. {}. {}.\n",
    "Dwight:\t{}s do not... What is going on?! What are you doing?!\n",
    "\"\"\"\n",
    "\n",
    "OUTPUT_A = OUTPUT_A.format(A_animal, A_adj1, A_color.capitalize(), \n",
    "                           A_animal, A_adj2, A_animal.capitalize(),\n",
    "                           A_food, A_animal.capitalize(), \n",
    "                           A_food.capitalize(), A_tvShow, \n",
    "                           A_animal.capitalize())\n",
    "\n",
    "print(OUTPUT_A)\n",
    "\n",
    "# Finished Indicator\n",
    "FINISHED_A = False"
   ]
  },
  {
   "cell_type": "code",
   "execution_count": null,
   "metadata": {},
   "outputs": [],
   "source": [
    "# Tester B\n",
    "NAME_B = \"name\"\n",
    "LDAP_B = \"ldap\"\n",
    "\n",
    "# Input Variables\n",
    "B_familyMember = \"\"\n",
    "B_adj1         = \"\"\n",
    "B_verbIng      = \"\"\n",
    "B_socialMedia  = \"\"\n",
    "B_adj2         = \"\"\n",
    "B_celebrity    = \"\"\n",
    "\n",
    "# Output\n",
    "OUTPUT_B = \"\"\"\\\n",
    "\n",
    "Kelly:\tYeah your {} is so {}.\n",
    "Creed:\tHe's been {} us relentlessly on {}. It's {} \n",
    "\tstuff, but mean.\n",
    "Jim:\tYou follow him on {}?\n",
    "...\n",
    "Creed:\tEverywhere I look it's {} this and {} that. \n",
    "\tFinally a kid who's not talking about {}. Of course \n",
    "\tI follow him.\n",
    "\"\"\"\n",
    "\n",
    "OUTPUT_B = OUTPUT_B.format(B_familyMember, B_adj1, B_verbIng, \n",
    "                           B_socialMedia, B_adj2, B_socialMedia, \n",
    "                           B_celebrity, B_celebrity, B_celebrity)\n",
    "\n",
    "print(OUTPUT_B)\n",
    "\n",
    "# Finished Indicator\n",
    "FINISHED_B = False"
   ]
  },
  {
   "cell_type": "markdown",
   "metadata": {},
   "source": [
    "---"
   ]
  },
  {
   "cell_type": "markdown",
   "metadata": {},
   "source": [
    "### Part II: Collaboration Within Cells"
   ]
  },
  {
   "cell_type": "markdown",
   "metadata": {},
   "source": [
    "#### Purpose \n",
    "In this section we test how edits show up when two users are working on the same cell of the same notebook, but there are no conflicts. This section should also check that outputs are maintained throughout each sync cycle. Edits from one user should not overlap into the other user's.\n",
    "\n",
    "#### Expected Behavior \n",
    "There should be no conflict error messages while working on this section. If there is, click on the \"View Diff\" option in the pop-up and note the conflict in the bug-bash spreadsheet. (Providing a screenshot is preferable)."
   ]
  },
  {
   "cell_type": "markdown",
   "metadata": {},
   "source": [
    "#### Instructions\n",
    "Run the cell below and make sure it runs without errors. (This is necessary for the test cell to compile.) Once you have run the cell on your kernel, work on the cell below in your test section. \n",
    "\n",
    "In this section, your goal is to navigate through your maze from your starting point to get to your ending point in 20 or less moves. First view your maze by uncommenting the appropriate call to the `viewMaze()` function. (You can do this by removing the `#` at the start of the line.) Then you should be able to see your starting point denoted by `■` and the ending point denoted by `□`. \n",
    "\n",
    "To move through the maze, input your sequence of moves in the variable titled `MOVELIST_X`. You can input these moves as strings or their correlated variables:\n",
    "```\n",
    "u = \"up\"      d = \"down\"      l = \"left\"      r = \"right\"\n",
    "```\n",
    "At this point, you can run `viewMaze` again to see where you are in the maze according to your movelist. If you have reached the end, the ending point will change to `■`.\n",
    "\n",
    "You can check your movements for correctness by using the `startMaze()` function below. Once you have solved your maze, change the variable `FINISHED_X = True`. \n",
    "\n",
    "While completing the task above, please check that the output for your cell does not change. If the output disappears or you see your partner's output, please make a note of it in the bug-bash spreadsheet. "
   ]
  },
  {
   "cell_type": "code",
   "execution_count": 34,
   "metadata": {
    "jupyter": {
     "source_hidden": true
    }
   },
   "outputs": [],
   "source": [
    "# Directions\n",
    "u = \"up\"\n",
    "d = \"down\"\n",
    "l = \"left\"\n",
    "r = \"right\"\n",
    "\n",
    "# Maze Helpers\n",
    "def startMaze(MAZE, START, END, MOVELIST):\n",
    "    print(\"Starting Maze Walkthrough...\")\n",
    "    print(\"Number of Moves: {}/20\".format(min(len(MOVELIST), 20)))\n",
    "    print(\"----------------\")\n",
    "    i, j = START\n",
    "    count = 0\n",
    "    for move in MOVELIST:\n",
    "        count += 1\n",
    "        print(\"  {}.\tMove:\".format(count), move, \"\tFrom: ({}, {})\t\".format(i, j), end=\" \")\n",
    "        if (move in MAZE[i][j]):\n",
    "            if (move == \"up\"):\n",
    "                i-=1\n",
    "            elif (move == \"down\"):\n",
    "                i+=1\n",
    "            elif (move == \"left\"):\n",
    "                j-=1\n",
    "            elif (move == \"right\"):\n",
    "                j+=1\n",
    "        print(\"To: ({}, {})\".format(i, j))\n",
    "        \n",
    "        if (count >= 20):\n",
    "            break\n",
    "    \n",
    "    print(\"----------------\")\n",
    "    if ((i, j) == END):\n",
    "        print(\"Successfully Navigated Maze!\")\n",
    "    else:\n",
    "        print(\"End Position: ({}, {})\".format(i, j))\n",
    "    \n",
    "    return (i, j)\n",
    "\n",
    "def getBoundaries(x, y, moves, maze_str):\n",
    "    if (\"up\" not in moves):\n",
    "        maze_str[x-1][y-1] = \"+\"\n",
    "        maze_str[x-1][y] = \"---\"\n",
    "        maze_str[x-1][y+1] = \"+\"\n",
    "    if (\"down\" not in moves):\n",
    "        maze_str[x+1][y-1] = \"+\"\n",
    "        maze_str[x+1][y] = \"---\"\n",
    "        maze_str[x+1][y+1] = \"+\"\n",
    "    if (\"left\" not in moves):\n",
    "        maze_str[x-1][y-1] = \"+\"\n",
    "        maze_str[x][y-1] = \"|\"\n",
    "        maze_str[x+1][y-1] = \"+\"\n",
    "    if (\"right\" not in moves):\n",
    "        maze_str[x-1][y+1] = \"+\"\n",
    "        maze_str[x][y+1] = \"|\"\n",
    "        maze_str[x+1][y+1] = \"+\"\n",
    "        \n",
    "def viewMaze(MAZE, START, END, MOVELIST):\n",
    "    # Build Maze Box\n",
    "    height = len(MAZE)\n",
    "    width = len(MAZE[0])\n",
    "    lines = 2*height+1\n",
    "    maze_str = [\"\"]*(lines)\n",
    "    \n",
    "    # Draw Outer Maze Box\n",
    "    for i in range(lines):\n",
    "        if (i == 0 or i == lines-1):\n",
    "            maze_str[i] = [\"+\", \"---\"]*width + [\"+\"]\n",
    "        elif (i % 2):\n",
    "            maze_str[i] = [\"|\"] + [\" ◦ \", \" \"]*(width-1) + [\" ◦ \", \"|\"]\n",
    "        else: \n",
    "            maze_str[i] = [\"+\"] + [\"   \", \" \"]*(width-1) + [\"   \", \"+\"]\n",
    "    \n",
    "    # Draw Boundaries & Start and End Points\n",
    "    for i in range(height):\n",
    "        for j in range(width):\n",
    "            x, y = (2*i+1, 2*j+1)\n",
    "            getBoundaries(x, y, MAZE[i][j], maze_str)\n",
    "            \n",
    "            if (i, j) == START: \n",
    "                maze_str[x][y] = \" ■ \"\n",
    "            if (i, j) == END:\n",
    "                maze_str[x][y] = \" □ \"\n",
    "    \n",
    "    # Draw Movelist\n",
    "    i, j = START\n",
    "    count = 0\n",
    "    for move in MOVELIST: \n",
    "        if (move in MAZE[i][j] and count < 20):\n",
    "            if (move == \"up\"):\n",
    "                i-=1\n",
    "            elif (move == \"down\"):\n",
    "                i+=1\n",
    "            elif (move == \"left\"):\n",
    "                j-=1\n",
    "            elif (move == \"right\"):\n",
    "                j+=1\n",
    "            \n",
    "            # Mark New Visited Position\n",
    "            x, y = (2*i+1, 2*j+1)\n",
    "            maze_str[x][y] = \" ■ \" if ((i, j) == END) else \" • \"  \n",
    "        \n",
    "        count += 1\n",
    "                \n",
    "    # Print Maze\n",
    "    print(\"Printing Maze...\")\n",
    "    for i in range(lines):\n",
    "        print(\"\".join(maze_str[i]))\n",
    "    print(\"----------------\")"
   ]
  },
  {
   "cell_type": "code",
   "execution_count": 36,
   "metadata": {},
   "outputs": [
    {
     "name": "stdout",
     "output_type": "stream",
     "text": [
      "Printing Maze...\n",
      "+---+---+---+---+---+---+\n",
      "| ◦   ◦   ◦ | ◦ | ◦   ◦ |\n",
      "+   +---+   +   +   +   +\n",
      "| ◦   ■ | ◦ | ◦   ◦ | □ |\n",
      "+---+   +   +---+---+   +\n",
      "| ◦   ◦ | ◦ | ◦   ◦ | ◦ |\n",
      "+   +   +   +   +   +   +\n",
      "| ◦ | ◦ | ◦ | ◦ | ◦ | ◦ |\n",
      "+   +   +   +   +   +   +\n",
      "| ◦ | ◦ | ◦ | ◦ | ◦ | ◦ |\n",
      "+   +---+---+   +   +   +\n",
      "| ◦   ◦   ◦   ◦ | ◦   ◦ |\n",
      "+---+---+---+---+---+---+\n",
      "----------------\n",
      "Starting Maze Walkthrough...\n",
      "Number of Moves: 0/20\n",
      "----------------\n",
      "----------------\n",
      "End Position: (1, 1)\n"
     ]
    }
   ],
   "source": [
    "# Tester A\n",
    "MAZE_A = [\n",
    "    [{r, d}, {l, r}, {l, d}, {d},    {d, r}, {l, d}],\n",
    "    [{u, r}, {l, d}, {u, d}, {u, r}, {u, l}, {u, d}],\n",
    "    [{r, d}, {u, l, d}, {u, d}, {r, d}, {l, d}, {u, d}], \n",
    "    [{u, d}, {u, d}, {u, d}, {u, d}, {u, d}, {u, d}],\n",
    "    [{u, d}, {u},    {u},    {u, d}, {u, d}, {u, d}], \n",
    "    [{u, r}, {l, r}, {l, r}, {l, u}, {u, r}, {u, l}]\n",
    "]\n",
    "\n",
    "START_A = (1, 1)\n",
    "END_A   = (1, 5)\n",
    "\n",
    "MOVELIST_A = []\n",
    "# viewMaze(MAZE_A, START_A, END_A, MOVELIST_A)\n",
    "# startMaze(MAZE_A, START_A, END_A, MOVELIST_A)\n",
    "\n",
    "FINISHED_A = False\n",
    "\n",
    "# Tester B\n",
    "MAZE_B = [\n",
    "    [{r, d}, {l, r}, {l, d}, {d, r}, {r, l}, {l}],\n",
    "    [{u, d}, {r, d}, {u, l}, {u, r}, {r, l}, {l, d}],\n",
    "    [{u, d}, {u, r}, {l, d}, {r, d}, {r, l}, {u, l, d}], \n",
    "    [{u, d}, {r}, {r, u, l}, {u, l}, {r}, {l, u, d}],\n",
    "    [{u, d, r}, {r, l}, {l, d}, {d, r}, {l}, {u, d}],\n",
    "    [{u, r}, {l}, {u, r}, {u, l}, {r}, {u, l}]\n",
    "]\n",
    "\n",
    "START_B = (5, 0)\n",
    "END_B   = (0, 3)\n",
    "\n",
    "MOVELIST_B = []\n",
    "\n",
    "# startMaze(MAZE_B, START_B, END_B, MOVELIST_B)\n",
    "# viewMaze(MAZE_B, START_B, END_B, MOVELIST_B)\n",
    "\n",
    "FINISHED_B = False"
   ]
  },
  {
   "cell_type": "markdown",
   "metadata": {},
   "source": [
    "---"
   ]
  },
  {
   "cell_type": "markdown",
   "metadata": {},
   "source": [
    "### Part III: Conflicts Between Cells\n",
    "\n",
    "#### Purpose \n",
    "In this section we test how edits show up when two users make changes to the cell order that conflict. \n",
    "\n",
    "#### Expected Behavior \n",
    "There should be no other popups besides a Conflict Error pop-up. If other errors arise, please note the pop-up in the bug-bash spreadsheet. (Providing a screenshot is preferable)."
   ]
  },
  {
   "cell_type": "markdown",
   "metadata": {},
   "source": [
    "#### Instructions\n",
    "Please run the base cell below and create a new cell directly after the base cell. In the cell please input the following code based on your testing assignment:\n",
    "```\n",
    "# Tester A Input\n",
    "print(calvin)\n",
    "\n",
    "# Tester B Input\n",
    "print(hobbes)\n",
    "```\n",
    "If you see a conflict error, choose the \"View Diff\" option. Please ensure that you are able to see diff markers after the file reloads. The diff markers should be as Markdown code in individual markdown cells. "
   ]
  },
  {
   "cell_type": "code",
   "execution_count": 1,
   "metadata": {},
   "outputs": [],
   "source": [
    "### BASE CELL: DO NOT CHANGE ###\n",
    "\n",
    "calvin = \"\"\"\\\n",
    "           , /,\n",
    "        , /;/ |.-;\n",
    "       /|/ /.'/.-',_\n",
    "    _,/  ._-    =-==.\n",
    "    =\\ =:        -|-.\n",
    "    `\\_-;  0 _0   |\n",
    "    (        _)   |\n",
    "     `\\  _______  /\n",
    "       \\ \\     //'\n",
    "    jgs \\ \\'--//\n",
    "        /`-`\"`'\\\n",
    "       |_|======|\n",
    "       |_|======|\n",
    "       ((/======|\n",
    "         #######_\n",
    "       .''-----\" `'.\n",
    "       `-----------`\n",
    "\n",
    "------------------------------------------------\n",
    "Thank you for visiting https://asciiart.website/\n",
    "This ASCII pic can be found at\n",
    "https://asciiart.website/index.php?art=comics/calvin%20and%20hobbes\n",
    "\"\"\"\n",
    "\n",
    "hobbes = \"\"\"\\\n",
    "        _       _\n",
    "       ( ).---.( )\n",
    "       ./.=\"'\"=.\\.\n",
    "       |=.     .=|\n",
    "       |_  0 0  _|\n",
    "      .`  .---.  '.\n",
    "      :   `---'   :\n",
    "      `._'-----'_.'\n",
    "        _:-----:._\n",
    "       /={     }=_\\\n",
    "      /_.{     }-_=\\\n",
    "      |=|{     }=|-|\n",
    "      |=|{     }-|=|\n",
    "       \\|{     }_|/\n",
    "        |{     } |\n",
    "        |{     }=|\n",
    "        |{     } =\\\n",
    "        |`.   .'=|`\\\n",
    "  jgs   |_=`|'`=_|`\\`\\    .'`.\n",
    "      __|_=_|=___|  `\\`\\_/./`'\n",
    "     (((__(((_____)   `.__/\n",
    "\n",
    "------------------------------------------------\n",
    "Thank you for visiting https://asciiart.website/\n",
    "This ASCII pic can be found at\n",
    "https://asciiart.website/index.php?art=comics/calvin%20and%20hobbes\n",
    "\"\"\""
   ]
  },
  {
   "cell_type": "markdown",
   "metadata": {},
   "source": [
    "---"
   ]
  },
  {
   "cell_type": "markdown",
   "metadata": {},
   "source": [
    "### Part IV: Conflicts Within Cells\n",
    "\n",
    "#### Purpose \n",
    "In this section we test how edits show up when two users are working on same cell of the same notebook, but the edits do not conflict. Edits from one user should not overlap into the other user's.\n",
    "\n",
    "#### Expected Behavior \n",
    "There should be no conflict error messages while working on this section. If there is, click on the \"View Diff\" option in the pop-up and note the conflict in the bug-bash spreadsheet. (Providing a screenshot is preferable)."
   ]
  },
  {
   "cell_type": "markdown",
   "metadata": {},
   "source": [
    "#### Instructions\n",
    "Fill out the variables with the information requested. If you see a conflict error, choose the \"View Diff\" option. Please ensure that you are able to see diff markers after the file reloads. The diff markers should only be within the cell and not as their own individual markdown cells. "
   ]
  },
  {
   "cell_type": "code",
   "execution_count": 5,
   "metadata": {},
   "outputs": [
    {
     "name": "stdout",
     "output_type": "stream",
     "text": [
      "\n",
      "List of Favorites:\n",
      "\n",
      "Favorite Band:\t\t\n",
      "Favorite Book:\t\t\n",
      "Favorite Color:\t\t\n",
      "Favorite Letter:\t\n",
      "Favorite Number:\t\n",
      "Favorite Snack:\t\t\n",
      "Favorite TV Show:\t\n",
      "\n"
     ]
    }
   ],
   "source": [
    "# Input Variables\n",
    "favorite_band = \"\"\n",
    "favorite_color = \"\"\n",
    "favorite_letter = \"\"\n",
    "favorite_number = \"\"\n",
    "favorite_snack = \"\"\n",
    "favorite_tv_show = \"\"\n",
    "favorite_video_game = \"\"\n",
    "\n",
    "print(\"\"\"\n",
    "List of Favorites:\n",
    "\n",
    "Favorite Band:\t\t\n",
    "Favorite Color:\t\t\n",
    "Favorite Letter:\t\n",
    "Favorite Number:\t\n",
    "Favorite Snack:\t\t\n",
    "Favorite TV Show:\t\n",
    "Favorite Video Game: \n",
    "\"\"\".format(favorite_band, favorite_book, favorite_color,\n",
    "          favorite_letter, favorite_number, favorite_snack,\n",
    "          favorite_tv_show))"
   ]
  },
  {
   "cell_type": "markdown",
   "metadata": {},
   "source": [
    "---"
   ]
  },
  {
   "cell_type": "markdown",
   "metadata": {},
   "source": [
    "### Part V: Cell Order Manipulation\n",
    "\n",
    "#### Purpose \n",
    "In this section we test how edits show up when two users are working on different cells of the same notebook. Edits from one user should not overlap into the other user's.\n",
    "\n",
    "#### Expected Behavior \n",
    "There should be no conflict error messages while working on this section. If there is, click on the \"View Diff\" option in the pop-up and note the conflict in the bug-bash spreadsheet. (Providing a screenshot is preferable)."
   ]
  },
  {
   "cell_type": "markdown",
   "metadata": {},
   "source": [
    "#### Instructions\n",
    "Tester A: Please arrange the cells below in alphabetical order. There will be duplicate cells, however please do not delete them. \n",
    "\n",
    "Tester B: Please add cells for missing letters (A-F) at the end of the file and delete all duplicate cells. Do not move the cell placement otherwise. \n",
    "\n",
    "Once you are finished, please change the variable `FINISHED_X = True`. If any conflict errors arise, please choose the \"View Diff\" option, and note what you did before the conflict error as well as the diff result. "
   ]
  },
  {
   "cell_type": "code",
   "execution_count": 6,
   "metadata": {},
   "outputs": [],
   "source": [
    "# Tester A\n",
    "FINISHED_A = False\n",
    "\n",
    "# Tester B\n",
    "FINISHED_B = False"
   ]
  },
  {
   "cell_type": "code",
   "execution_count": null,
   "metadata": {},
   "outputs": [],
   "source": [
    "# Cell E"
   ]
  },
  {
   "cell_type": "code",
   "execution_count": null,
   "metadata": {},
   "outputs": [],
   "source": [
    "# Cell B"
   ]
  },
  {
   "cell_type": "code",
   "execution_count": null,
   "metadata": {},
   "outputs": [],
   "source": [
    "# Cell C"
   ]
  },
  {
   "cell_type": "code",
   "execution_count": null,
   "metadata": {},
   "outputs": [],
   "source": [
    "# Cell E"
   ]
  },
  {
   "cell_type": "code",
   "execution_count": null,
   "metadata": {},
   "outputs": [],
   "source": [
    "# Cell A"
   ]
  },
  {
   "cell_type": "code",
   "execution_count": null,
   "metadata": {},
   "outputs": [],
   "source": [
    "# Cell B"
   ]
  }
 ],
 "metadata": {
  "environment": {
   "name": "common-cpu.m55",
   "type": "gcloud",
   "uri": "gcr.io/deeplearning-platform-release/base-cpu:m55"
  },
  "kernelspec": {
   "display_name": "Python 3",
   "language": "python",
   "name": "python3"
  },
  "language_info": {
   "codemirror_mode": {
    "name": "ipython",
    "version": 3
   },
   "file_extension": ".py",
   "mimetype": "text/x-python",
   "name": "python",
   "nbconvert_exporter": "python",
   "pygments_lexer": "ipython3",
   "version": "3.7.8"
  }
 },
 "nbformat": 4,
 "nbformat_minor": 4
}
