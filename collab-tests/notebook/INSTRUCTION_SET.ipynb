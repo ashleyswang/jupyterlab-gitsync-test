{
 "cells": [
  {
   "cell_type": "markdown",
   "metadata": {},
   "source": [
    "# Notebook Test | Simple Instructions"
   ]
  },
  {
   "cell_type": "markdown",
   "metadata": {},
   "source": [
    "### Part I: Collaboration Between Cells\n",
    "\n",
    "#### Instructions\n",
    "Follow the instructions located in the template. To save time, you may copy and paste the default values below."
   ]
  },
  {
   "cell_type": "code",
   "execution_count": null,
   "metadata": {},
   "outputs": [],
   "source": [
    "# Tester A Default Values\n",
    "A_animal = \"bear\"\n",
    "A_adj1   = \"ridiculous\"\n",
    "A_color  = \"black\"\n",
    "A_adj2   = \"debatable\"\n",
    "A_food   = \"beets\"\n",
    "A_tvShow = \"Battlestar Galactica\""
   ]
  },
  {
   "cell_type": "code",
   "execution_count": null,
   "metadata": {},
   "outputs": [],
   "source": [
    "# Tester B Default Values\n",
    "B_familyMember = \"nephew\"\n",
    "B_adj1         = \"lame\"\n",
    "B_verbIng      = \"trashing\"\n",
    "B_socialMedia  = \"Twitter\"\n",
    "B_adj2         = \"funny\"\n",
    "B_celebrity    = \"Betty White\""
   ]
  },
  {
   "cell_type": "markdown",
   "metadata": {},
   "source": [
    "---"
   ]
  },
  {
   "cell_type": "markdown",
   "metadata": {},
   "source": [
    "### Part II: Collaboration Within Cells\n",
    "\n",
    "#### Instructions\n",
    "Follow the instructions located in the template. To save time, you may copy and paste the answer below. Please run the cell initially first to view the maze and input the movelist in segments, so that the output is ran multiple times. "
   ]
  },
  {
   "cell_type": "code",
   "execution_count": null,
   "metadata": {},
   "outputs": [],
   "source": [
    "# Tester A Answer\n",
    "MOVELIST_A = [d, l, d, d, d, r, r, r, u, u, u, r, d, \n",
    "              d, d, r, u, u, u, u]\n",
    "\n",
    "# Tester B Answer\n",
    "MOVELIST_B = [u, u, u, u, u, r, r, d, l, d, r, d, r,\n",
    "              u, r, r, u, l, l, u]"
   ]
  },
  {
   "cell_type": "markdown",
   "metadata": {},
   "source": [
    "---"
   ]
  },
  {
   "cell_type": "markdown",
   "metadata": {},
   "source": [
    "### Part III: Conflicts Between Cells\n",
    "\n",
    "#### Instructions\n",
    "Follow the instructions located in the template. "
   ]
  },
  {
   "cell_type": "markdown",
   "metadata": {},
   "source": [
    "---"
   ]
  },
  {
   "cell_type": "markdown",
   "metadata": {},
   "source": [
    "### Part IV: Conflicts Between Cells\n",
    "\n",
    "#### Instructions\n",
    "Follow the instructions located in the template. To save time, you may copy and paste the default values below. "
   ]
  },
  {
   "cell_type": "code",
   "execution_count": 2,
   "metadata": {},
   "outputs": [],
   "source": [
    "# Tester A Default Values\n",
    "favorite_band = \"The Killers\"\n",
    "favorite_color = \"blue\"\n",
    "favorite_letter = \"x\"\n",
    "favorite_number = \"2\"\n",
    "favorite_snack = \"chips\"\n",
    "favorite_tv_show = \"Star Wars\"\n",
    "favorite_video_game = \"Hollow Knight\"\n",
    "\n",
    "# Tester B Default Values\n",
    "favorite_band = \"Oh Wonder\"\n",
    "favorite_color = \"blue\"\n",
    "favorite_letter = \"w\"\n",
    "favorite_number = \"34\"\n",
    "favorite_snack = \"hot pockets\"\n",
    "favorite_tv_show = \"The Office\"\n",
    "favorite_video_game = \"Animal Crossing\""
   ]
  },
  {
   "cell_type": "markdown",
   "metadata": {},
   "source": [
    "---"
   ]
  },
  {
   "cell_type": "markdown",
   "metadata": {},
   "source": [
    "### Part V: Cell Order Manipulation\n",
    "\n",
    "#### Instructions\n",
    "Follow the instructions located in the template. For more detailed step-by-step, follow the instructions below. "
   ]
  },
  {
   "cell_type": "markdown",
   "metadata": {},
   "source": [
    "_Tester A:_ \n",
    "1. Order the cells so that the order of the cells is: Cell A, Cell B, Cell B, Cell C, Cell E, Cell E\n",
    "2. Once you see the added cells from Tester B, you should move them in order to be: Cell A, Cell B, Cell B, Cell C, Cell D, Cell E, Cell E, Cell F. Some of the duplicate cells may be deleted (ie. only one Cell B) but that is okay. \n",
    "3. The final cell order should be: Cell A, Cell B, Cell C, Cell D, Cell E, Cell F. \n",
    "4. Once you see the final cell order, change `FINISHED_A = True`"
   ]
  },
  {
   "cell_type": "markdown",
   "metadata": {},
   "source": [
    "_Tester B:_ \n",
    "1. Delete one of Cell B and one of Cell E. \n",
    "2. After the last cell, add cells with `# Cell D` and `# Cell F`. \n",
    "3. You should see that the cell order has changed from Tester A's modifications. The final cell order should be: Cell A, Cell B, Cell C, Cell D, Cell E, Cell F.\n",
    "4. Once you see the final cell order, change `FINISHED_B = True`"
   ]
  }
 ],
 "metadata": {
  "environment": {
   "name": "common-cpu.m55",
   "type": "gcloud",
   "uri": "gcr.io/deeplearning-platform-release/base-cpu:m55"
  },
  "kernelspec": {
   "display_name": "Python 3",
   "language": "python",
   "name": "python3"
  },
  "language_info": {
   "codemirror_mode": {
    "name": "ipython",
    "version": 3
   },
   "file_extension": ".py",
   "mimetype": "text/x-python",
   "name": "python",
   "nbconvert_exporter": "python",
   "pygments_lexer": "ipython3",
   "version": "3.7.8"
  }
 },
 "nbformat": 4,
 "nbformat_minor": 4
}
